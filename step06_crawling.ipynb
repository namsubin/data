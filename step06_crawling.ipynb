{
 "cells": [
  {
   "cell_type": "markdown",
   "id": "81d5b737",
   "metadata": {},
   "source": [
    "### 6. 크롤링(Crawling)\n",
    "* 필요한 패키지\n",
    "* (필수) pip3 install BeautifulSoup4 또는 pip3 install bs4\n",
    "* (필수) pip3 install requests\n",
    "* (필수) pip3 install pandas\n",
    "* (필수) pip3 install plotly\n",
    "* (필수) pip3 install lxml"
   ]
  },
  {
   "cell_type": "code",
   "execution_count": null,
   "id": "9d7e30c9",
   "metadata": {},
   "outputs": [],
   "source": [
    "'''1. BeautifulSoup 라이브러리\n",
    "find() 와 find_all() 메서드\n",
    "find() : 가장 먼저 검색되는 태그 반환\n",
    "find_all() : 전체 태그 반환 '''"
   ]
  },
  {
   "cell_type": "code",
   "execution_count": 2,
   "id": "5af50dee",
   "metadata": {},
   "outputs": [],
   "source": [
    "import requests\n",
    "from bs4 import BeautifulSoup"
   ]
  },
  {
   "cell_type": "code",
   "execution_count": 4,
   "id": "b456191a",
   "metadata": {},
   "outputs": [],
   "source": [
    "from bs4 import BeautifulSoup\n",
    "\n",
    "html = \"\"\"\n",
    "<html>\n",
    "    <body>\n",
    "        <h1 id='title'>[1]크롤링이란?</h1>;\n",
    "        <p class='cssstyle'>웹페이지에서 필요한 데이터를 추출하는 것</p>\n",
    "        <p id='body' align='center'>파이썬을 중심으로 다양한 웹크롤링 기술 발달</p>\n",
    "    </body>\n",
    "</html>\n",
    "\"\"\""
   ]
  },
  {
   "cell_type": "code",
   "execution_count": 5,
   "id": "ebdfc288",
   "metadata": {},
   "outputs": [
    {
     "name": "stdout",
     "output_type": "stream",
     "text": [
      "<h1 id=\"title\">[1]크롤링이란?</h1>\n",
      "[1]크롤링이란?\n",
      "[1]크롤링이란?\n"
     ]
    }
   ],
   "source": [
    "soup = BeautifulSoup(html, \"html.parser\")\n",
    "\n",
    "# 태그로 검색 방법\n",
    "title_data = soup.find('h1')\n",
    "\n",
    "print(title_data)\n",
    "print(title_data.string)\n",
    "print(title_data.get_text())"
   ]
  },
  {
   "cell_type": "code",
   "execution_count": 6,
   "id": "ca577499",
   "metadata": {
    "scrolled": true
   },
   "outputs": [
    {
     "name": "stdout",
     "output_type": "stream",
     "text": [
      "<p class=\"cssstyle\">웹페이지에서 필요한 데이터를 추출하는 것</p>\n",
      "웹페이지에서 필요한 데이터를 추출하는 것\n",
      "웹페이지에서 필요한 데이터를 추출하는 것\n"
     ]
    }
   ],
   "source": [
    "# 가장 먼저 검색되는 태그를 반환\n",
    "paragraph_data = soup.find('p')\n",
    "\n",
    "print(paragraph_data)\n",
    "print(paragraph_data.string)\n",
    "print(paragraph_data.get_text())"
   ]
  },
  {
   "cell_type": "code",
   "execution_count": 7,
   "id": "5508d71e",
   "metadata": {},
   "outputs": [
    {
     "name": "stdout",
     "output_type": "stream",
     "text": [
      "<h1 id=\"title\">[1]크롤링이란?</h1>\n",
      "[1]크롤링이란?\n",
      "[1]크롤링이란?\n"
     ]
    }
   ],
   "source": [
    "# 태그에 있는 id로 검색 \n",
    "title_data = soup.find(id='title')\n",
    "\n",
    "print(title_data)\n",
    "print(title_data.string)\n",
    "print(title_data.get_text())"
   ]
  },
  {
   "cell_type": "code",
   "execution_count": 10,
   "id": "1c5aceb3",
   "metadata": {},
   "outputs": [
    {
     "name": "stdout",
     "output_type": "stream",
     "text": [
      "<p class=\"cssstyle\">웹페이지에서 필요한 데이터를 추출하는 것</p>\n",
      "웹페이지에서 필요한 데이터를 추출하는 것\n",
      "웹페이지에서 필요한 데이터를 추출하는 것\n"
     ]
    }
   ],
   "source": [
    "# HTML 태그와 CSS class를 활용해서 필요한 데이터를 추출하는 방법1\n",
    "paragraph_data = soup.find('p', class_='cssstyle')\n",
    "\n",
    "print(paragraph_data)\n",
    "print(paragraph_data.string)\n",
    "print(paragraph_data.get_text())"
   ]
  },
  {
   "cell_type": "code",
   "execution_count": 11,
   "id": "cb3bbfe0",
   "metadata": {
    "scrolled": true
   },
   "outputs": [
    {
     "name": "stdout",
     "output_type": "stream",
     "text": [
      "<p class=\"cssstyle\">웹페이지에서 필요한 데이터를 추출하는 것</p>\n",
      "웹페이지에서 필요한 데이터를 추출하는 것\n",
      "웹페이지에서 필요한 데이터를 추출하는 것\n"
     ]
    }
   ],
   "source": [
    "# HTML 태그와 CSS class를 활용해서 필요한 데이터를 추출하는 방법2\n",
    "paragraph_data = soup.find('p', 'cssstyle')\n",
    "\n",
    "print(paragraph_data)\n",
    "print(paragraph_data.string)\n",
    "print(paragraph_data.get_text())"
   ]
  },
  {
   "cell_type": "code",
   "execution_count": 12,
   "id": "d51485c0",
   "metadata": {
    "scrolled": true
   },
   "outputs": [
    {
     "name": "stdout",
     "output_type": "stream",
     "text": [
      "<p align=\"center\" id=\"body\">파이썬을 중심으로 다양한 웹크롤링 기술 발달</p>\n",
      "파이썬을 중심으로 다양한 웹크롤링 기술 발달\n",
      "파이썬을 중심으로 다양한 웹크롤링 기술 발달\n"
     ]
    }
   ],
   "source": [
    "# HTML 태그와 태그에 있는 속성:속성값을 활용해서 필요한 데이터를 추출하는 방법\n",
    "paragraph_data = soup.find('p', attrs = {'align': 'center'})\n",
    "print(paragraph_data)\n",
    "print(paragraph_data.string)\n",
    "print(paragraph_data.get_text())"
   ]
  },
  {
   "cell_type": "code",
   "execution_count": 13,
   "id": "08cf0ea3",
   "metadata": {
    "scrolled": true
   },
   "outputs": [
    {
     "name": "stdout",
     "output_type": "stream",
     "text": [
      "[<p class=\"cssstyle\">웹페이지에서 필요한 데이터를 추출하는 것</p>, <p align=\"center\" id=\"body\">파이썬을 중심으로 다양한 웹크롤링 기술 발달</p>]\n",
      "웹페이지에서 필요한 데이터를 추출하는 것\n",
      "파이썬을 중심으로 다양한 웹크롤링 기술 발달\n"
     ]
    }
   ],
   "source": [
    "#find_all() 관련된 모든 데이터를 리스트 형태로 추출하는 함수\n",
    "paragraph_data = soup.find_all('p')\n",
    "\n",
    "print(paragraph_data)\n",
    "print(paragraph_data[0].get_text())\n",
    "print(paragraph_data[1].get_text())"
   ]
  },
  {
   "cell_type": "code",
   "execution_count": null,
   "id": "f820cd7d",
   "metadata": {},
   "outputs": [],
   "source": [
    "'''2. BeautifulSoup 라이브러리 String 검색\n",
    "태그가 아닌 문자열 자체로 검색\n",
    "문자열, 정규표현식 등등으로 검색 가능'''"
   ]
  },
  {
   "cell_type": "code",
   "execution_count": 28,
   "id": "e55c0fe9",
   "metadata": {},
   "outputs": [
    {
     "name": "stdout",
     "output_type": "stream",
     "text": [
      "[]\n",
      "[이주의해시태그-#네이버-클로바]쑥쑥 크는 네이버 AI\n",
      "[이주의해시태그-#네이버-클로바]쑥쑥 크는 네이버 AI\n",
      "네이버가 최근 인공지능(AI) 비서 앱 '네이버-클로바(Clova)' 시범 버전을 공개했다.\n",
      "반면 다른 AI 비서는 응답하지 못했다.\n"
     ]
    }
   ],
   "source": [
    "import re\n",
    "\n",
    "res = requests.get('http://v.media.daum.net/v/20170518153405933')\n",
    "soup = BeautifulSoup(res.content, 'lxml')\n",
    "\n",
    "#print (soup.find(string='[이주의해시태그-#네이버-클로바]쑥쑥 크는 네이버 AI'))\n",
    "#print (soup.find_all(string='[이주의해시태그-#네이버-클로바]쑥쑥 크는 네이버 AI'))\n",
    "\n",
    "print (soup.find_all(string='AI'))                 # 단어\n",
    "print (soup.find_all(string=re.compile('AI'))[0])  # 문장속 단어\n",
    "print (soup.find_all(string=re.compile('AI'))[1])\n",
    "print (soup.find_all(string=re.compile('AI'))[2])\n",
    "print (soup.find_all(string=re.compile('AI'))[3])"
   ]
  },
  {
   "cell_type": "code",
   "execution_count": 35,
   "id": "9124227a",
   "metadata": {},
   "outputs": [],
   "source": [
    "# (1) 웹 문서 전체 가져오기\n",
    "from urllib.request import urlopen\n",
    "from bs4 import BeautifulSoup\n",
    "\n",
    "html = urlopen(\"http://www.naver.com\")  \n",
    "bsObject = BeautifulSoup(html, \"html.parser\") \n",
    "#print(bsObject) # 웹 문서 전체가 출력된다. "
   ]
  },
  {
   "cell_type": "code",
   "execution_count": 42,
   "id": "541dfacd",
   "metadata": {
    "scrolled": true
   },
   "outputs": [
    {
     "name": "stdout",
     "output_type": "stream",
     "text": [
      "None\n",
      "None\n",
      "viewport\n",
      "apple-mobile-web-app-title\n",
      "robots\n",
      "description\n",
      "None\n",
      "None\n",
      "None\n",
      "None\n",
      "twitter:card\n",
      "twitter:title\n",
      "twitter:url\n",
      "twitter:image\n",
      "twitter:description\n"
     ]
    }
   ],
   "source": [
    "#(2)모든 메타 데이터 가져오기\n",
    "for m in bsObject.head.find_all('meta'):\n",
    "    print(m.get('name'))\n",
    "\n",
    "#print(bsObject.head.find('meta'))"
   ]
  },
  {
   "cell_type": "code",
   "execution_count": 46,
   "id": "5678823f",
   "metadata": {},
   "outputs": [
    {
     "name": "stdout",
     "output_type": "stream",
     "text": [
      "네이버 메인에서 다양한 정보와 유용한 컨텐츠를 만나 보세요\n"
     ]
    }
   ],
   "source": [
    "# (4) 원하는 태그의 내용 가져오기\n",
    "# print (bsObject.head.find(\"meta\", {\"content\":\"description\"}))\n",
    "print (bsObject.head.find(\"meta\", {\"name\":\"description\"}).get('content'))"
   ]
  },
  {
   "cell_type": "code",
   "execution_count": 49,
   "id": "2d06c268",
   "metadata": {},
   "outputs": [],
   "source": [
    "# (5) 모든 링크의 텍스트와 주소 가져오기\n",
    "from urllib.request import urlopen\n",
    "from bs4 import BeautifulSoup\n",
    "\n",
    "html = urlopen(\"https://www.naver.com\")\n",
    "bsObject = BeautifulSoup(html, \"html.parser\")\n",
    "\n",
    "#for link in bsObject.find_all('a'):\n",
    "#    print(link.text.strip(), link.get('href'))"
   ]
  },
  {
   "cell_type": "code",
   "execution_count": null,
   "id": "29a2f7e5",
   "metadata": {},
   "outputs": [],
   "source": [
    "'''\n",
    "[연습문제]\n",
    "다음 사이트에서 링크가 되어 있는 모든 제목을 가져와서 출력합니다.\n",
    "http://media.daum.net/digital/\n",
    "\n",
    "[출력화면]\n",
    "뉴스홈\n",
    "사회\n",
    "정치\n",
    "경제\n",
    "국제\n",
    "문화\n",
    "IT\n",
    "포토\n",
    "TV\n",
    "이슈\n",
    "언론사별 뉴스\n",
    "배열이력\n",
    "전체뉴스\n",
    "랭킹\n",
    "연재\n",
    "1boon\n",
    "'''"
   ]
  },
  {
   "cell_type": "code",
   "execution_count": 55,
   "id": "7f077b85",
   "metadata": {},
   "outputs": [
    {
     "name": "stdout",
     "output_type": "stream",
     "text": [
      "뉴스\n",
      "연예\n",
      "스포츠\n",
      "검색\n",
      "홈\n",
      "사회\n",
      "정치\n",
      "경제\n",
      "국제\n",
      "문화\n",
      "IT\n",
      "랭킹\n",
      "연재\n",
      "포토\n",
      "TV\n",
      "팩트체크\n",
      "뉴스홈 사회 정치 경제 국제 문화 IT 포토 TV\n",
      "언론사별 뉴스\n",
      "배열이력\n",
      "전체뉴스 랭킹 연재 팩트체크\n"
     ]
    }
   ],
   "source": [
    "\n",
    "html = urlopen(\"http://media.daum.net/digital/\")\n",
    "bsObject = BeautifulSoup(html, \"html.parser\")\n",
    "\n",
    "for i in soup.find_all('span', class_='ir_wa'):\n",
    "    print(i.get_text())\n",
    "\n",
    "#find_all() 메서드를 사용해서 태그와 클래스이름으로 링크가 걸려있는 기사 타이틀을 가져오기\n",
    "# for link in soup.find_all('div', class_='item_bundle'):\n",
    "#     print(link.text.strip())"
   ]
  },
  {
   "cell_type": "markdown",
   "id": "1cc98d29",
   "metadata": {},
   "source": [
    "* select(검색)"
   ]
  },
  {
   "cell_type": "code",
   "execution_count": 134,
   "id": "41bab89e",
   "metadata": {},
   "outputs": [],
   "source": [
    "import requests\n",
    "from bs4 import BeautifulSoup\n",
    "\n",
    "res = requests.get('http://v.media.daum.net/v/20170615203441266')\n",
    "soup = BeautifulSoup(res.content, 'html.parser')"
   ]
  },
  {
   "cell_type": "code",
   "execution_count": 136,
   "id": "f8d09594",
   "metadata": {},
   "outputs": [
    {
     "name": "stdout",
     "output_type": "stream",
     "text": [
      "잔금대출에도 DTI 규제 적용 검토\n"
     ]
    }
   ],
   "source": [
    "# 태그 검색\n",
    "soup.find('title')\n",
    "\n",
    "# select 함수는 리스트 형태로 전체 반환\n",
    "title = soup.select('title')[0]\n",
    "#print (title)\n",
    "print (title.get_text())"
   ]
  },
  {
   "cell_type": "code",
   "execution_count": 137,
   "id": "75b2a68d",
   "metadata": {},
   "outputs": [
    {
     "name": "stdout",
     "output_type": "stream",
     "text": [
      "잔금대출에도 DTI 규제 적용 검토\n"
     ]
    }
   ],
   "source": [
    "# 띄어쓰기가 있다면 하위 태그를 검색\n",
    "title = soup.select('html head title')[0]\n",
    "print (title.get_text())"
   ]
  },
  {
   "cell_type": "code",
   "execution_count": 138,
   "id": "400348bd",
   "metadata": {},
   "outputs": [
    {
     "name": "stdout",
     "output_type": "stream",
     "text": [
      "잔금대출에도 DTI 규제 적용 검토\n"
     ]
    }
   ],
   "source": [
    "# 띄어쓰기가 있다면 하위 태그를 검색\n",
    "# 이때 바로 직계의 자식이 아니여도 관계없음\n",
    "title = soup.select('html title')[0]\n",
    "print (title.get_text())"
   ]
  },
  {
   "cell_type": "code",
   "execution_count": 140,
   "id": "2d2b4dc0",
   "metadata": {},
   "outputs": [],
   "source": [
    "# > 를 사용하는 경우 바로 아래의 자식만 검색\n",
    "# 바로 아래 자식이 아니기 때문에 에러 발생\n",
    "#title = soup.select('html > title')[0]\n",
    "#print (title.get_text())"
   ]
  },
  {
   "cell_type": "code",
   "execution_count": 141,
   "id": "033a352d",
   "metadata": {},
   "outputs": [
    {
     "name": "stdout",
     "output_type": "stream",
     "text": [
      "잔금대출에도 DTI 규제 적용 검토\n"
     ]
    }
   ],
   "source": [
    "# 바로 아래 자식을 검색\n",
    "title = soup.select('head > title')[0]\n",
    "print (title.get_text())"
   ]
  },
  {
   "cell_type": "code",
   "execution_count": 173,
   "id": "1e9ce821",
   "metadata": {
    "scrolled": true
   },
   "outputs": [
    {
     "name": "stdout",
     "output_type": "stream",
     "text": [
      "검색 태그 수: 14\n",
      "연예\n",
      "스포츠\n",
      "홈\n",
      "사회\n",
      "정치\n",
      "경제\n",
      "국제\n",
      "문화\n",
      "IT\n",
      "랭킹\n",
      "연재\n",
      "포토\n",
      "TV\n",
      "팩트체크\n"
     ]
    }
   ],
   "source": [
    "# .은 태그의 클래스를 검색\n",
    "# class가 article_view인 태그 탐색\n",
    "# body = soup.select('.article_view')[0]\n",
    "# print (type(body), len(body))\n",
    "# for p in body.find_all('p'):\n",
    "#    print (p.get_text())\n",
    "\n",
    "# body = soup.select('body')[0]\n",
    "# print(type(body), len(body))\n",
    "\n",
    "# for p in body.find_all('li'):\n",
    "#      print(p.get_text())\n",
    "\n",
    "body = soup.select('body li a span.ir_wa')\n",
    "print ('검색 태그 수:', len(body))\n",
    "for n in body:\n",
    "    print(n.get_text())     # or print(li.string) "
   ]
  },
  {
   "cell_type": "code",
   "execution_count": 106,
   "id": "8e14642b",
   "metadata": {},
   "outputs": [
    {
     "name": "stdout",
     "output_type": "stream",
     "text": [
      "내주 부동산 종합대책 발표\n",
      "집값 상승 노린 투기 분양 차단\n",
      "LTVㆍDTI 규제 다시 강화할 듯\n",
      "저소득 실수요자 피해 우려도\n",
      "\n",
      "금융당국이 급증하는 가계부채 증가세를 막기 위해 아파트 잔금대출에도 소득을 따져 대출한도를 정하는 총부채상환비율(DTI)을 적용하는 방안을 유력하게 검토하고 있다. 지금은 집값을 기준으로 대출한도를 매기는 주택담보인정비율(LTV) 규제만 적용돼 소득이 없어도 집값의 70%를 빌려 잔금을 치르는 게 가능하다. 앞으로 잔금대출에 DTI가 적용되면 소득 없는 사람이 입주 뒤 집값 상승을 노리고 분양시장에 뛰어드는 게 사실상 불가능해진다. \n",
      "금융당국 고위관계자는 15일 “잔금대출에도 DTI를 적용하는 방안을 검토 중”이라며 “다만 아직 최종 결론이 난 건 아니다”고 말했다. 정부는 내주 이 같은 내용을 포함한 부동산 종합 대책을 발표할 예정이다. \n",
      "정부가 잔금대출 DTI 적용 카드를 꺼내는 건, 집단대출을 잡지 않고선 과열된 주택시장을 진정시키기 어렵다는 판단에서다. 실제 정부는 지난해 잔금대출도 대출 초기부터 원리금을 함께 갚도록 하는 여신심사 가이드라인을 도입했지만 이렇다 할 효과를 거두지 못했다. 오히려 정부 대책에도 불구, 집단대출 증가액은 매달 늘어나는 추세인데 지난달엔 2조원으로 올 들어 최고치를 기록했다. \n",
      "아파트 분양 집단대출은 중도금과 잔금대출로 구분된다. 계약금 10%를 내면 입주 전까지 집값의 60%를 중도금 대출로 받을 수 있다. 중도금 대출은 건설사 보증으로 이뤄져 소득심사를 안 거친다. 잔금대출은 건설사가 아닌 집을 담보로 이뤄지는 대출이다. LTV 규제만 적용돼 소득이 없어도 집값의 70%까지 대출이 가능하다. 때문에 지금은 잔금대출로 집값의 70%를 대출받아 기존 중도금 대출을 갚고 나머지 20%만 본인 돈으로 충당하면 집을 살 수 있다.\n",
      "앞으로 잔금대출에 DTI가 적용되면 소득이 없는 사람은 집값의 70% 대출 받는 게 어려워진다. 입주 뒤 집값 상승을 노리는 투기수요를 확실히 걸러낼 초강력 대책이 될 수 있다. 하지만 부작용도 우려된다. 소득이 낮은 사회초년생 등은 청약통장을 갖고도 분양시장에 진입하는 게 어려워지기 때문이다. \n",
      "이에 따라 잔금대출에 DTI를 적용하는 것 역시 지역 등에 따라 선별적으로 이뤄질 가능성이 높다. 현재 당국은 신규 분양 물량부터 규제를 적용할지 아니면 기존 분양 물량까지 규제 범위를 확대할지를 놓고 시뮬레이션을 하고 있다. \n",
      "아울러 당국은 지난 2년간 완화됐던 LTV와 DTI를 다시 강화할 것으로 보인다. 현재 LTV(은행 기준)는 기존 50~60%에서 70%, DTI는 50~60%에서 60%로 완화돼 있는 상태다. 당국은 일괄적인 조이기보다 지역ㆍ집값 수준별로 기준을 다르게 적용하는 방식을 모색할 것으로 보인다.\n",
      "김동욱 기자 kdw1280@hankookilbo.com\n",
      "ⓒ한국일보 www.hankookilbo.com (무단복제 및 전재, 재배포를 금지합니다)\n"
     ]
    }
   ],
   "source": [
    "# div태그 중 class가 article_view인 태그 탐색\n",
    "body = soup.select('div.article_view')[0]\n",
    "#print (type(body), len(body))\n",
    "for p in body.find_all('p'):\n",
    "    print (p.get_text())"
   ]
  },
  {
   "cell_type": "code",
   "execution_count": 107,
   "id": "b5d4566b",
   "metadata": {
    "scrolled": true
   },
   "outputs": [
    {
     "name": "stdout",
     "output_type": "stream",
     "text": [
      "[<div class=\"article_view\" data-translation-body=\"true\" id=\"harmonyContainer\">\n",
      "<section dmcf-sid=\"ndxAvoEFLc\">\n",
      "<p dmcf-pid=\"nzrJ5KB3Cc\" dmcf-ptype=\"general\">내주 부동산 종합대책 발표</p>\n",
      "<p dmcf-pid=\"ncFbmYUgSc\" dmcf-ptype=\"general\">집값 상승 노린 투기 분양 차단</p>\n",
      "<p dmcf-pid=\"naDeB8j0HH\" dmcf-ptype=\"general\">LTVㆍDTI 규제 다시 강화할 듯</p>\n",
      "<p dmcf-pid=\"ngfl6lJwwk\" dmcf-ptype=\"general\">저소득 실수요자 피해 우려도</p>\n",
      "<figure class=\"figure_frm origin_fig\" dmcf-pid=\"nYQ8LWIMpD\" dmcf-ptype=\"figure\">\n",
      "<p class=\"link_figure\"><img class=\"thumb_g_article\" data-org-src=\"http://t1.daumcdn.net/news/201706/15/hankooki/20170615044256378kzbd.jpg\" data-org-width=\"330\" dmcf-mid=\"nkjJSoPdyb\" dmcf-mtype=\"image\" height=\"auto\" src=\"https://img3.daumcdn.net/thumb/R658x0.q70/?fname=http://t1.daumcdn.net/news/201706/15/hankooki/20170615044256378kzbd.jpg\" width=\"658\"/></p>\n",
      "</figure>\n",
      "<p dmcf-pid=\"n8guDAko3Z\" dmcf-ptype=\"general\">금융당국이 급증하는 가계부채 증가세를 막기 위해 아파트 잔금대출에도 소득을 따져 대출한도를 정하는 총부채상환비율(DTI)을 적용하는 방안을 유력하게 검토하고 있다. 지금은 집값을 기준으로 대출한도를 매기는 주택담보인정비율(LTV) 규제만 적용돼 소득이 없어도 집값의 70%를 빌려 잔금을 치르는 게 가능하다. 앞으로 잔금대출에 DTI가 적용되면 소득 없는 사람이 입주 뒤 집값 상승을 노리고 분양시장에 뛰어드는 게 사실상 불가능해진다. </p>\n",
      "<p dmcf-pid=\"nYPaCCRO1q\" dmcf-ptype=\"general\">금융당국 고위관계자는 15일 “잔금대출에도 DTI를 적용하는 방안을 검토 중”이라며 “다만 아직 최종 결론이 난 건 아니다”고 말했다. 정부는 내주 이 같은 내용을 포함한 부동산 종합 대책을 발표할 예정이다. </p>\n",
      "<p dmcf-pid=\"naZLBbSgoZ\" dmcf-ptype=\"general\">정부가 잔금대출 DTI 적용 카드를 꺼내는 건, 집단대출을 잡지 않고선 과열된 주택시장을 진정시키기 어렵다는 판단에서다. 실제 정부는 지난해 잔금대출도 대출 초기부터 원리금을 함께 갚도록 하는 여신심사 가이드라인을 도입했지만 이렇다 할 효과를 거두지 못했다. 오히려 정부 대책에도 불구, 집단대출 증가액은 매달 늘어나는 추세인데 지난달엔 2조원으로 올 들어 최고치를 기록했다. </p>\n",
      "<p dmcf-pid=\"nhAfneUtnA\" dmcf-ptype=\"general\">아파트 분양 집단대출은 중도금과 잔금대출로 구분된다. 계약금 10%를 내면 입주 전까지 집값의 60%를 중도금 대출로 받을 수 있다. 중도금 대출은 건설사 보증으로 이뤄져 소득심사를 안 거친다. 잔금대출은 건설사가 아닌 집을 담보로 이뤄지는 대출이다. LTV 규제만 적용돼 소득이 없어도 집값의 70%까지 대출이 가능하다. 때문에 지금은 잔금대출로 집값의 70%를 대출받아 기존 중도금 대출을 갚고 나머지 20%만 본인 돈으로 충당하면 집을 살 수 있다.</p>\n",
      "<p dmcf-pid=\"nCcfu6DK1b\" dmcf-ptype=\"general\">앞으로 잔금대출에 DTI가 적용되면 소득이 없는 사람은 집값의 70% 대출 받는 게 어려워진다. 입주 뒤 집값 상승을 노리는 투기수요를 확실히 걸러낼 초강력 대책이 될 수 있다. 하지만 부작용도 우려된다. 소득이 낮은 사회초년생 등은 청약통장을 갖고도 분양시장에 진입하는 게 어려워지기 때문이다. </p>\n",
      "<p dmcf-pid=\"nzh7QZekII\" dmcf-ptype=\"general\">이에 따라 잔금대출에 DTI를 적용하는 것 역시 지역 등에 따라 선별적으로 이뤄질 가능성이 높다. 현재 당국은 신규 분양 물량부터 규제를 적용할지 아니면 기존 분양 물량까지 규제 범위를 확대할지를 놓고 시뮬레이션을 하고 있다. </p>\n",
      "<p dmcf-pid=\"nihh22vlmu\" dmcf-ptype=\"general\">아울러 당국은 지난 2년간 완화됐던 LTV와 DTI를 다시 강화할 것으로 보인다. 현재 LTV(은행 기준)는 기존 50~60%에서 70%, DTI는 50~60%에서 60%로 완화돼 있는 상태다. 당국은 일괄적인 조이기보다 지역ㆍ집값 수준별로 기준을 다르게 적용하는 방식을 모색할 것으로 보인다.</p>\n",
      "<p dmcf-pid=\"naJ5HNfuMQ\" dmcf-ptype=\"general\">김동욱 기자 kdw1280@hankookilbo.com</p>\n",
      "</section>\n",
      "<p data-translation=\"true\">ⓒ한국일보 www.hankookilbo.com (무단복제 및 전재, 재배포를 금지합니다)</p>\n",
      "</div>]\n"
     ]
    }
   ],
   "source": [
    "# div 태그 중 id가 harmonyContainer인 태그 탐색\n",
    "container = soup.select('#harmonyContainer')\n",
    "print (container)"
   ]
  },
  {
   "cell_type": "code",
   "execution_count": 108,
   "id": "4b6cbb73",
   "metadata": {
    "scrolled": true
   },
   "outputs": [
    {
     "name": "stdout",
     "output_type": "stream",
     "text": [
      "\n",
      "\n",
      "내주 부동산 종합대책 발표\n",
      "집값 상승 노린 투기 분양 차단\n",
      "LTVㆍDTI 규제 다시 강화할 듯\n",
      "저소득 실수요자 피해 우려도\n",
      "\n",
      "\n",
      "\n",
      "금융당국이 급증하는 가계부채 증가세를 막기 위해 아파트 잔금대출에도 소득을 따져 대출한도를 정하는 총부채상환비율(DTI)을 적용하는 방안을 유력하게 검토하고 있다. 지금은 집값을 기준으로 대출한도를 매기는 주택담보인정비율(LTV) 규제만 적용돼 소득이 없어도 집값의 70%를 빌려 잔금을 치르는 게 가능하다. 앞으로 잔금대출에 DTI가 적용되면 소득 없는 사람이 입주 뒤 집값 상승을 노리고 분양시장에 뛰어드는 게 사실상 불가능해진다. \n",
      "금융당국 고위관계자는 15일 “잔금대출에도 DTI를 적용하는 방안을 검토 중”이라며 “다만 아직 최종 결론이 난 건 아니다”고 말했다. 정부는 내주 이 같은 내용을 포함한 부동산 종합 대책을 발표할 예정이다. \n",
      "정부가 잔금대출 DTI 적용 카드를 꺼내는 건, 집단대출을 잡지 않고선 과열된 주택시장을 진정시키기 어렵다는 판단에서다. 실제 정부는 지난해 잔금대출도 대출 초기부터 원리금을 함께 갚도록 하는 여신심사 가이드라인을 도입했지만 이렇다 할 효과를 거두지 못했다. 오히려 정부 대책에도 불구, 집단대출 증가액은 매달 늘어나는 추세인데 지난달엔 2조원으로 올 들어 최고치를 기록했다. \n",
      "아파트 분양 집단대출은 중도금과 잔금대출로 구분된다. 계약금 10%를 내면 입주 전까지 집값의 60%를 중도금 대출로 받을 수 있다. 중도금 대출은 건설사 보증으로 이뤄져 소득심사를 안 거친다. 잔금대출은 건설사가 아닌 집을 담보로 이뤄지는 대출이다. LTV 규제만 적용돼 소득이 없어도 집값의 70%까지 대출이 가능하다. 때문에 지금은 잔금대출로 집값의 70%를 대출받아 기존 중도금 대출을 갚고 나머지 20%만 본인 돈으로 충당하면 집을 살 수 있다.\n",
      "앞으로 잔금대출에 DTI가 적용되면 소득이 없는 사람은 집값의 70% 대출 받는 게 어려워진다. 입주 뒤 집값 상승을 노리는 투기수요를 확실히 걸러낼 초강력 대책이 될 수 있다. 하지만 부작용도 우려된다. 소득이 낮은 사회초년생 등은 청약통장을 갖고도 분양시장에 진입하는 게 어려워지기 때문이다. \n",
      "이에 따라 잔금대출에 DTI를 적용하는 것 역시 지역 등에 따라 선별적으로 이뤄질 가능성이 높다. 현재 당국은 신규 분양 물량부터 규제를 적용할지 아니면 기존 분양 물량까지 규제 범위를 확대할지를 놓고 시뮬레이션을 하고 있다. \n",
      "아울러 당국은 지난 2년간 완화됐던 LTV와 DTI를 다시 강화할 것으로 보인다. 현재 LTV(은행 기준)는 기존 50~60%에서 70%, DTI는 50~60%에서 60%로 완화돼 있는 상태다. 당국은 일괄적인 조이기보다 지역ㆍ집값 수준별로 기준을 다르게 적용하는 방식을 모색할 것으로 보인다.\n",
      "김동욱 기자 kdw1280@hankookilbo.com\n",
      "\n",
      "ⓒ한국일보 www.hankookilbo.com (무단복제 및 전재, 재배포를 금지합니다)\n",
      "\n"
     ]
    }
   ],
   "source": [
    "# div태그 중 id가 mArticle 인 태그의 하위 태그 중 아이디가 article_title인 태그\n",
    "title = soup.select('div#mArticle  div#harmonyContainer')[0]\n",
    "print (title.get_text())"
   ]
  },
  {
   "cell_type": "code",
   "execution_count": 115,
   "id": "dbff0152",
   "metadata": {
    "scrolled": false
   },
   "outputs": [
    {
     "name": "stdout",
     "output_type": "stream",
     "text": [
      "http://search.daum.net/search?w=tot&DA=23W&rtmaxcoll=Z8T&q=서울특별시날씨\n",
      "http://search.daum.net/search?w=tot&DA=23W&rtmaxcoll=Z8T&q=수원시 권선구날씨\n",
      "http://search.daum.net/search?w=tot&DA=23W&rtmaxcoll=Z8T&q=인천광역시날씨\n",
      "http://search.daum.net/search?w=tot&DA=23W&rtmaxcoll=Z8T&q=대구광역시날씨\n",
      "http://search.daum.net/search?w=tot&DA=23W&rtmaxcoll=Z8T&q=대전광역시날씨\n",
      "http://search.daum.net/search?w=tot&DA=23W&rtmaxcoll=Z8T&q=광주광역시날씨\n",
      "http://search.daum.net/search?w=tot&DA=23W&rtmaxcoll=Z8T&q=부산광역시날씨\n",
      "http://search.daum.net/search?w=tot&DA=23W&rtmaxcoll=Z8T&q=울산광역시날씨\n",
      "http://search.daum.net/search?w=tot&DA=23W&rtmaxcoll=Z8T&q=울릉군날씨\n",
      "http://search.daum.net/search?w=tot&DA=23W&rtmaxcoll=Z8T&q=춘천시날씨\n",
      "http://search.daum.net/search?w=tot&DA=23W&rtmaxcoll=Z8T&q=강릉시날씨\n",
      "http://search.daum.net/search?w=tot&DA=23W&rtmaxcoll=Z8T&q=백령면날씨\n",
      "http://search.daum.net/search?w=tot&DA=23W&rtmaxcoll=Z8T&q=청주시 상당구날씨\n",
      "http://search.daum.net/search?w=tot&DA=23W&rtmaxcoll=Z8T&q=전주시 완산구날씨\n",
      "http://search.daum.net/search?w=tot&DA=23W&rtmaxcoll=Z8T&q=목포시날씨\n",
      "http://search.daum.net/search?w=tot&DA=23W&rtmaxcoll=Z8T&q=여수시날씨\n",
      "http://search.daum.net/search?w=tot&DA=23W&rtmaxcoll=Z8T&q=제주특별자치도날씨\n",
      "http://search.daum.net/search?w=tot&DA=23W&rtmaxcoll=Z8T&q=안동시날씨\n",
      "http://search.daum.net/search?w=tot&DA=23W&rtmaxcoll=Z8T&q=창원시 의창구날씨\n",
      "http://policy.daum.net/info/info\n",
      "http://cs.daum.net/faq/63.html\n",
      "http://www.kakaocorp.com/\n"
     ]
    }
   ],
   "source": [
    "import re\n",
    "\n",
    "res = requests.get('http://media.daum.net/economic/')\n",
    "soup = BeautifulSoup(res.content, 'html.parser')\n",
    "\n",
    "# a태그이면서 href 속성을 갖는 경우 탐색, 리스트 타입으로 links 변수에 저장됨\n",
    "links = soup.select('a[href]')\n",
    "   \n",
    "for link in links:\n",
    "    # print (link) # <a class=\"link_services link_services2\" href=\"http://sports.media.daum.net/sports\">스포츠</a>\n",
    "    # print (link['href']) # http://sports.media.daum.net/sports\n",
    "    if re.search('http://\\w+', link['href']):  # http:// 문자열 이후에 숫자 또는 문자[a-zA-Z0-9_]가 한 개 이상 있는 데이터와 매치됨 \n",
    "        print (link['href'])"
   ]
  }
 ],
 "metadata": {
  "kernelspec": {
   "display_name": "Python 3",
   "language": "python",
   "name": "python3"
  },
  "language_info": {
   "codemirror_mode": {
    "name": "ipython",
    "version": 3
   },
   "file_extension": ".py",
   "mimetype": "text/x-python",
   "name": "python",
   "nbconvert_exporter": "python",
   "pygments_lexer": "ipython3",
   "version": "3.8.8"
  }
 },
 "nbformat": 4,
 "nbformat_minor": 5
}
